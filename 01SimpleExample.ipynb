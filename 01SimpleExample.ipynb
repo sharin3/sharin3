{
 "cells": [
  {
   "cell_type": "markdown",
   "metadata": {},
   "source": [
    "# Notebook-1\n",
    "---------------------"
   ]
  },
  {
   "cell_type": "markdown",
   "metadata": {},
   "source": [
    "Simple Examples"
   ]
  },
  {
   "cell_type": "code",
   "execution_count": 1,
   "metadata": {},
   "outputs": [
    {
     "name": "stdout",
     "output_type": "stream",
     "text": [
      "\n",
      " Jema Sharin \n",
      " Always be happy \n",
      " love yourself \n"
     ]
    }
   ],
   "source": [
    "txt='\\n Always be happy'\n",
    "txt2=\" \\n love yourself \"\n",
    "print('\\n Jema Sharin '+txt+txt2)"
   ]
  },
  {
   "cell_type": "code",
   "execution_count": 2,
   "metadata": {},
   "outputs": [
    {
     "name": "stdout",
     "output_type": "stream",
     "text": [
      "3\n",
      "1\n",
      "2\n"
     ]
    }
   ],
   "source": [
    "list1=[3,1,2]\n",
    "list2=[3,1,2]\n",
    "list3=[3,1,2]\n",
    "print(list1[0])\n",
    "print(list2[1])\n",
    "print(list3[2])"
   ]
  },
  {
   "cell_type": "code",
   "execution_count": 3,
   "metadata": {},
   "outputs": [
    {
     "name": "stdout",
     "output_type": "stream",
     "text": [
      "  drink  plenty of water\n"
     ]
    }
   ],
   "source": [
    " \n",
    "txt=' drink '\n",
    "txt2=\" plenty \"\n",
    "txt3='of water'\n",
    "print(' '+txt+txt2+txt3)"
   ]
  },
  {
   "cell_type": "code",
   "execution_count": null,
   "metadata": {
    "collapsed": true
   },
   "outputs": [],
   "source": []
  }
 ],
 "metadata": {
  "anaconda-cloud": {},
  "kernelspec": {
   "display_name": "Python 3",
   "language": "python",
   "name": "python3"
  },
  "language_info": {
   "codemirror_mode": {
    "name": "ipython",
    "version": 3
   },
   "file_extension": ".py",
   "mimetype": "text/x-python",
   "name": "python",
   "nbconvert_exporter": "python",
   "pygments_lexer": "ipython3",
   "version": "3.6.1"
  }
 },
 "nbformat": 4,
 "nbformat_minor": 1
}
